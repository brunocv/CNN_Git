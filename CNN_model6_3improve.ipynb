{
 "cells": [
  {
   "cell_type": "markdown",
   "metadata": {},
   "source": [
    "# Convolutional Neural Network\n",
    "\n",
    "### Part 1 - Building the CNN\n",
    "\n",
    "#### Importing the Tensorflow libraries and packages"
   ]
  },
  {
   "cell_type": "code",
   "execution_count": 1,
   "metadata": {},
   "outputs": [
    {
     "name": "stdout",
     "output_type": "stream",
     "text": [
      "Tensor Flow Version: 2.1.0\n",
      "Keras Version: 2.2.4-tf\n",
      "\n",
      "Python 3.7.10 (default, Feb 26 2021, 13:06:18) [MSC v.1916 64 bit (AMD64)]\n",
      "Pandas 1.2.4\n",
      "Scikit-Learn 0.24.1\n",
      "GPU is available\n"
     ]
    }
   ],
   "source": [
    "import sys\n",
    "\n",
    "import tensorflow.keras\n",
    "import pandas as pd\n",
    "import sklearn as sk\n",
    "import tensorflow as tf\n",
    "\n",
    "print(f\"Tensor Flow Version: {tf.__version__}\")\n",
    "print(f\"Keras Version: {tensorflow.keras.__version__}\")\n",
    "print()\n",
    "print(f\"Python {sys.version}\")\n",
    "print(f\"Pandas {pd.__version__}\")\n",
    "print(f\"Scikit-Learn {sk.__version__}\")\n",
    "gpu = len(tf.config.list_physical_devices('GPU'))>0\n",
    "print(\"GPU is\", \"available\" if gpu else \"NOT AVAILABLE\")"
   ]
  },
  {
   "cell_type": "code",
   "execution_count": 2,
   "metadata": {},
   "outputs": [],
   "source": [
    "# Load the TensorBoard notebook extension\n",
    "%load_ext tensorboard\n",
    "from tensorflow.keras.models import Sequential\n",
    "from tensorflow.keras.layers import Conv2D, MaxPooling2D, Flatten, Dense, Dropout\n",
    "from tensorflow.keras.callbacks import ReduceLROnPlateau\n",
    "\n",
    "import os"
   ]
  },
  {
   "cell_type": "code",
   "execution_count": 3,
   "metadata": {},
   "outputs": [],
   "source": [
    "TRAIN_DIR = 'dataset/train'\n",
    "TEST_DIR = 'dataset/test'\n",
    "VALID_DIR = 'dataset/valid'\n",
    "IMG_SIZE = 224\n",
    "IMG_RESCALE = 255"
   ]
  },
  {
   "cell_type": "code",
   "execution_count": 4,
   "metadata": {},
   "outputs": [],
   "source": [
    "classifier = Sequential()\n",
    "\n",
    "#classes = 250\n",
    "\n",
    "#Kernels usually 1x1 | 3x3 | 5x5\n",
    "\n",
    "#Adding a convolutional layer\n",
    "classifier.add(Conv2D(32, (3, 3), input_shape = (IMG_SIZE, IMG_SIZE, 3), padding='same', activation = 'relu'))\n",
    "classifier.add(MaxPooling2D(pool_size = (2, 2)))\n",
    "\n",
    "#Adding a second convolutional layer\n",
    "classifier.add(Conv2D(64, (3, 3), padding='same', activation = 'relu'))\n",
    "classifier.add(MaxPooling2D(pool_size = (2, 2)))\n",
    "\n",
    "#Adding a third convolutional layer\n",
    "classifier.add(Conv2D(128, (3, 3), padding='same', activation = 'relu'))\n",
    "classifier.add(MaxPooling2D(pool_size = (2, 2)))\n",
    "\n",
    "#Adding a fourth convolutional layer\n",
    "classifier.add(Conv2D(256, (3, 3), input_shape = (IMG_SIZE, IMG_SIZE, 3), padding='same', activation = 'relu'))\n",
    "classifier.add(MaxPooling2D(pool_size = (2, 2)))\n",
    "\n",
    "#Flattening\n",
    "classifier.add(Flatten())\n",
    "\n",
    "#Full connection\n",
    "classifier.add(Dense(units = 1024, activation = 'relu'))\n",
    "classifier.add(Dropout(0.10))\n",
    "classifier.add(Dense(units = 250, activation= 'softmax'))"
   ]
  },
  {
   "cell_type": "markdown",
   "metadata": {},
   "source": [
    "Let's double check the model description:"
   ]
  },
  {
   "cell_type": "code",
   "execution_count": 5,
   "metadata": {},
   "outputs": [
    {
     "name": "stdout",
     "output_type": "stream",
     "text": [
      "Model: \"sequential\"\n",
      "_________________________________________________________________\n",
      "Layer (type)                 Output Shape              Param #   \n",
      "=================================================================\n",
      "conv2d (Conv2D)              (None, 224, 224, 32)      896       \n",
      "_________________________________________________________________\n",
      "max_pooling2d (MaxPooling2D) (None, 112, 112, 32)      0         \n",
      "_________________________________________________________________\n",
      "conv2d_1 (Conv2D)            (None, 112, 112, 64)      18496     \n",
      "_________________________________________________________________\n",
      "max_pooling2d_1 (MaxPooling2 (None, 56, 56, 64)        0         \n",
      "_________________________________________________________________\n",
      "conv2d_2 (Conv2D)            (None, 56, 56, 128)       73856     \n",
      "_________________________________________________________________\n",
      "max_pooling2d_2 (MaxPooling2 (None, 28, 28, 128)       0         \n",
      "_________________________________________________________________\n",
      "conv2d_3 (Conv2D)            (None, 28, 28, 256)       295168    \n",
      "_________________________________________________________________\n",
      "max_pooling2d_3 (MaxPooling2 (None, 14, 14, 256)       0         \n",
      "_________________________________________________________________\n",
      "flatten (Flatten)            (None, 50176)             0         \n",
      "_________________________________________________________________\n",
      "dense (Dense)                (None, 1024)              51381248  \n",
      "_________________________________________________________________\n",
      "dropout (Dropout)            (None, 1024)              0         \n",
      "_________________________________________________________________\n",
      "dense_1 (Dense)              (None, 250)               256250    \n",
      "=================================================================\n",
      "Total params: 52,025,914\n",
      "Trainable params: 52,025,914\n",
      "Non-trainable params: 0\n",
      "_________________________________________________________________\n"
     ]
    }
   ],
   "source": [
    "classifier.summary()"
   ]
  },
  {
   "cell_type": "code",
   "execution_count": 6,
   "metadata": {},
   "outputs": [],
   "source": [
    "classifier.compile(optimizer = 'adam', loss = 'categorical_crossentropy', metrics = ['accuracy'])"
   ]
  },
  {
   "cell_type": "markdown",
   "metadata": {},
   "source": [
    "### Part 2 - Fitting the CNN to the images\n"
   ]
  },
  {
   "cell_type": "code",
   "execution_count": 7,
   "metadata": {},
   "outputs": [],
   "source": [
    "from tensorflow.keras.preprocessing.image import ImageDataGenerator\n",
    "\n",
    "\n",
    "train_datagen = ImageDataGenerator(rescale = 1./IMG_RESCALE,\n",
    "                                   zoom_range = 0.2,\n",
    "                                   horizontal_flip = True)\n",
    "\n",
    "test_datagen = ImageDataGenerator(rescale = 1./IMG_RESCALE)\n",
    "\n",
    "validation_datagen = ImageDataGenerator(rescale = 1./IMG_RESCALE)"
   ]
  },
  {
   "cell_type": "code",
   "execution_count": 8,
   "metadata": {},
   "outputs": [
    {
     "name": "stdout",
     "output_type": "stream",
     "text": [
      "Found 35215 images belonging to 250 classes.\n",
      "Found 1250 images belonging to 250 classes.\n",
      "Found 1250 images belonging to 250 classes.\n"
     ]
    }
   ],
   "source": [
    "training_set = train_datagen.flow_from_directory(TRAIN_DIR,\n",
    "                                                 target_size = (IMG_SIZE, IMG_SIZE),\n",
    "                                                 batch_size = 32,\n",
    "                                                 class_mode = 'categorical')\n",
    "\n",
    "test_set = test_datagen.flow_from_directory(TEST_DIR,\n",
    "                                            target_size = (IMG_SIZE, IMG_SIZE),\n",
    "                                            batch_size = 32,\n",
    "                                            class_mode = 'categorical')\n",
    "\n",
    "validation_set = validation_datagen.flow_from_directory(VALID_DIR,\n",
    "                                            target_size = (IMG_SIZE, IMG_SIZE),\n",
    "                                            batch_size = 32,\n",
    "                                            class_mode = 'categorical')"
   ]
  },
  {
   "cell_type": "code",
   "execution_count": 9,
   "metadata": {},
   "outputs": [],
   "source": [
    "from tensorflow.keras.callbacks import EarlyStopping, ModelCheckpoint, TensorBoard\n",
    "import datetime\n",
    "\n",
    "#rm -rf /logs/\n",
    "\n",
    "es = EarlyStopping(monitor='val_loss', patience=80)\n",
    "mc = ModelCheckpoint('best_model_6.h5', monitor='val_loss', mode='min', save_best_only=True)\n",
    "reduceLR = ReduceLROnPlateau(monitor='val_loss', factor=0.1, patience=9)\n",
    "\n",
    "# Create a TensorBoard callback\n",
    "log_dir = \"logs\\\\\" + datetime.datetime.now().strftime(\"%Y%m%d-%H%M%S\")\n",
    "tensorboard_callback = TensorBoard(log_dir=log_dir, histogram_freq=1)"
   ]
  },
  {
   "cell_type": "code",
   "execution_count": 10,
   "metadata": {},
   "outputs": [
    {
     "name": "stdout",
     "output_type": "stream",
     "text": [
      "WARNING:tensorflow:sample_weight modes were coerced from\n",
      "  ...\n",
      "    to  \n",
      "  ['...']\n",
      "WARNING:tensorflow:sample_weight modes were coerced from\n",
      "  ...\n",
      "    to  \n",
      "  ['...']\n",
      "Train for 1101 steps, validate for 40 steps\n",
      "Epoch 1/150\n",
      "1101/1101 [==============================] - 101s 91ms/step - loss: 4.5260 - accuracy: 0.1021 - val_loss: 3.1853 - val_accuracy: 0.2952\n",
      "Epoch 2/150\n",
      "1101/1101 [==============================] - 101s 92ms/step - loss: 2.9834 - accuracy: 0.3330 - val_loss: 2.1777 - val_accuracy: 0.4960\n",
      "Epoch 3/150\n",
      "1101/1101 [==============================] - 99s 90ms/step - loss: 2.2557 - accuracy: 0.4732 - val_loss: 1.7068 - val_accuracy: 0.5832\n",
      "Epoch 4/150\n",
      "1101/1101 [==============================] - 99s 90ms/step - loss: 1.8213 - accuracy: 0.5626 - val_loss: 1.4219 - val_accuracy: 0.6352\n",
      "Epoch 5/150\n",
      "1101/1101 [==============================] - 103s 93ms/step - loss: 1.5018 - accuracy: 0.6303 - val_loss: 1.2875 - val_accuracy: 0.6824\n",
      "Epoch 6/150\n",
      "1101/1101 [==============================] - 100s 91ms/step - loss: 1.2708 - accuracy: 0.6779 - val_loss: 1.2819 - val_accuracy: 0.6872\n",
      "Epoch 7/150\n",
      "1101/1101 [==============================] - 106s 96ms/step - loss: 1.0742 - accuracy: 0.7231 - val_loss: 1.2741 - val_accuracy: 0.7048\n",
      "Epoch 8/150\n",
      "1101/1101 [==============================] - 104s 95ms/step - loss: 0.9210 - accuracy: 0.7545 - val_loss: 1.2917 - val_accuracy: 0.7048\n",
      "Epoch 9/150\n",
      "1101/1101 [==============================] - 105s 95ms/step - loss: 0.8076 - accuracy: 0.7854 - val_loss: 1.2336 - val_accuracy: 0.7152\n",
      "Epoch 10/150\n",
      "1101/1101 [==============================] - 108s 98ms/step - loss: 0.7228 - accuracy: 0.8034 - val_loss: 1.2166 - val_accuracy: 0.7344\n",
      "Epoch 11/150\n",
      "1101/1101 [==============================] - 111s 101ms/step - loss: 0.6397 - accuracy: 0.8266 - val_loss: 1.2980 - val_accuracy: 0.7272\n",
      "Epoch 12/150\n",
      "1101/1101 [==============================] - 106s 96ms/step - loss: 0.5825 - accuracy: 0.8400 - val_loss: 1.3836 - val_accuracy: 0.7280\n",
      "Epoch 13/150\n",
      "1101/1101 [==============================] - 108s 98ms/step - loss: 0.5316 - accuracy: 0.8528 - val_loss: 1.2736 - val_accuracy: 0.7304\n",
      "Epoch 14/150\n",
      "1101/1101 [==============================] - 112s 102ms/step - loss: 0.4787 - accuracy: 0.8642 - val_loss: 1.4085 - val_accuracy: 0.7392\n",
      "Epoch 15/150\n",
      "1101/1101 [==============================] - 112s 102ms/step - loss: 0.4398 - accuracy: 0.8759 - val_loss: 1.4629 - val_accuracy: 0.7432\n",
      "Epoch 16/150\n",
      "1101/1101 [==============================] - 111s 101ms/step - loss: 0.4233 - accuracy: 0.8806 - val_loss: 1.4174 - val_accuracy: 0.7384\n",
      "Epoch 17/150\n",
      "1101/1101 [==============================] - 112s 102ms/step - loss: 0.3825 - accuracy: 0.8931 - val_loss: 1.3543 - val_accuracy: 0.7304\n",
      "Epoch 18/150\n",
      "1101/1101 [==============================] - 111s 101ms/step - loss: 0.3619 - accuracy: 0.8983 - val_loss: 1.4600 - val_accuracy: 0.7360\n",
      "Epoch 19/150\n",
      "1101/1101 [==============================] - 107s 97ms/step - loss: 0.3384 - accuracy: 0.9028 - val_loss: 1.5472 - val_accuracy: 0.7296\n",
      "Epoch 20/150\n",
      "1101/1101 [==============================] - 110s 100ms/step - loss: 0.1849 - accuracy: 0.9455 - val_loss: 1.3968 - val_accuracy: 0.7544\n",
      "Epoch 21/150\n",
      "1101/1101 [==============================] - 111s 101ms/step - loss: 0.1476 - accuracy: 0.9581 - val_loss: 1.3615 - val_accuracy: 0.7648\n",
      "Epoch 22/150\n",
      "1101/1101 [==============================] - 99s 90ms/step - loss: 0.1343 - accuracy: 0.9597 - val_loss: 1.4133 - val_accuracy: 0.7680\n",
      "Epoch 23/150\n",
      "1101/1101 [==============================] - 109s 99ms/step - loss: 0.1262 - accuracy: 0.9630 - val_loss: 1.3968 - val_accuracy: 0.7712\n",
      "Epoch 24/150\n",
      "1101/1101 [==============================] - 110s 100ms/step - loss: 0.1103 - accuracy: 0.9669 - val_loss: 1.3879 - val_accuracy: 0.7720\n",
      "Epoch 25/150\n",
      "1101/1101 [==============================] - 108s 98ms/step - loss: 0.1035 - accuracy: 0.9693 - val_loss: 1.4020 - val_accuracy: 0.7688\n",
      "Epoch 26/150\n",
      "1101/1101 [==============================] - 103s 93ms/step - loss: 0.0962 - accuracy: 0.9723 - val_loss: 1.4203 - val_accuracy: 0.7736\n",
      "Epoch 27/150\n",
      "1101/1101 [==============================] - 110s 100ms/step - loss: 0.0863 - accuracy: 0.9742 - val_loss: 1.4379 - val_accuracy: 0.7664\n",
      "Epoch 28/150\n",
      "1101/1101 [==============================] - 115s 105ms/step - loss: 0.0880 - accuracy: 0.9738 - val_loss: 1.3912 - val_accuracy: 0.7712\n",
      "Epoch 29/150\n",
      "1101/1101 [==============================] - 111s 101ms/step - loss: 0.0756 - accuracy: 0.9780 - val_loss: 1.3882 - val_accuracy: 0.7712\n",
      "Epoch 30/150\n",
      "1101/1101 [==============================] - 110s 100ms/step - loss: 0.0720 - accuracy: 0.9787 - val_loss: 1.3939 - val_accuracy: 0.7672\n",
      "Epoch 31/150\n",
      "1101/1101 [==============================] - 107s 98ms/step - loss: 0.0738 - accuracy: 0.9780 - val_loss: 1.4027 - val_accuracy: 0.7680\n",
      "Epoch 32/150\n",
      "1101/1101 [==============================] - 110s 100ms/step - loss: 0.0731 - accuracy: 0.9780 - val_loss: 1.3952 - val_accuracy: 0.7696\n",
      "Epoch 33/150\n",
      "1101/1101 [==============================] - 104s 94ms/step - loss: 0.0669 - accuracy: 0.9802 - val_loss: 1.3970 - val_accuracy: 0.7704\n",
      "Epoch 34/150\n",
      "1101/1101 [==============================] - 104s 95ms/step - loss: 0.0709 - accuracy: 0.9793 - val_loss: 1.4077 - val_accuracy: 0.7720\n",
      "Epoch 35/150\n",
      "1101/1101 [==============================] - 111s 101ms/step - loss: 0.0715 - accuracy: 0.9785 - val_loss: 1.4124 - val_accuracy: 0.7696\n",
      "Epoch 36/150\n",
      "1101/1101 [==============================] - 110s 100ms/step - loss: 0.0663 - accuracy: 0.9804 - val_loss: 1.4238 - val_accuracy: 0.7696\n",
      "Epoch 37/150\n",
      "1101/1101 [==============================] - 103s 94ms/step - loss: 0.0665 - accuracy: 0.9808 - val_loss: 1.4147 - val_accuracy: 0.7696\n",
      "Epoch 38/150\n",
      "1101/1101 [==============================] - 104s 95ms/step - loss: 0.0660 - accuracy: 0.9810 - val_loss: 1.4175 - val_accuracy: 0.7696\n",
      "Epoch 39/150\n",
      "1101/1101 [==============================] - 105s 96ms/step - loss: 0.0683 - accuracy: 0.9802 - val_loss: 1.4183 - val_accuracy: 0.7728\n",
      "Epoch 40/150\n",
      "1101/1101 [==============================] - 101s 92ms/step - loss: 0.0626 - accuracy: 0.9818 - val_loss: 1.4198 - val_accuracy: 0.7720\n",
      "Epoch 41/150\n",
      "1101/1101 [==============================] - 103s 93ms/step - loss: 0.0705 - accuracy: 0.9792 - val_loss: 1.4205 - val_accuracy: 0.7720\n",
      "Epoch 42/150\n",
      "1101/1101 [==============================] - 102s 92ms/step - loss: 0.0669 - accuracy: 0.9802 - val_loss: 1.4199 - val_accuracy: 0.7720\n",
      "Epoch 43/150\n",
      "1101/1101 [==============================] - 102s 93ms/step - loss: 0.0668 - accuracy: 0.9803 - val_loss: 1.4206 - val_accuracy: 0.7728\n",
      "Epoch 44/150\n",
      "1101/1101 [==============================] - 110s 100ms/step - loss: 0.0653 - accuracy: 0.9809 - val_loss: 1.4219 - val_accuracy: 0.7728\n",
      "Epoch 45/150\n",
      "1101/1101 [==============================] - 101s 92ms/step - loss: 0.0657 - accuracy: 0.9807 - val_loss: 1.4230 - val_accuracy: 0.7728\n",
      "Epoch 46/150\n",
      "1101/1101 [==============================] - 104s 94ms/step - loss: 0.0612 - accuracy: 0.9819 - val_loss: 1.4240 - val_accuracy: 0.7720\n",
      "Epoch 47/150\n",
      "1101/1101 [==============================] - 102s 92ms/step - loss: 0.0641 - accuracy: 0.9812 - val_loss: 1.4239 - val_accuracy: 0.7720\n",
      "Epoch 48/150\n",
      "1101/1101 [==============================] - 102s 92ms/step - loss: 0.0626 - accuracy: 0.9810 - val_loss: 1.4240 - val_accuracy: 0.7720\n",
      "Epoch 49/150\n",
      "1101/1101 [==============================] - 104s 94ms/step - loss: 0.0681 - accuracy: 0.9800 - val_loss: 1.4239 - val_accuracy: 0.7720\n",
      "Epoch 50/150\n",
      "1101/1101 [==============================] - 112s 102ms/step - loss: 0.0671 - accuracy: 0.9804 - val_loss: 1.4239 - val_accuracy: 0.7720\n",
      "Epoch 51/150\n",
      "1101/1101 [==============================] - 108s 98ms/step - loss: 0.0630 - accuracy: 0.9801 - val_loss: 1.4240 - val_accuracy: 0.7720\n",
      "Epoch 52/150\n",
      "1101/1101 [==============================] - 102s 92ms/step - loss: 0.0677 - accuracy: 0.9796 - val_loss: 1.4240 - val_accuracy: 0.7720\n",
      "Epoch 53/150\n",
      "1101/1101 [==============================] - 105s 96ms/step - loss: 0.0629 - accuracy: 0.9813 - val_loss: 1.4240 - val_accuracy: 0.7720\n",
      "Epoch 54/150\n"
     ]
    },
    {
     "name": "stdout",
     "output_type": "stream",
     "text": [
      "1101/1101 [==============================] - 106s 96ms/step - loss: 0.0652 - accuracy: 0.9803 - val_loss: 1.4240 - val_accuracy: 0.7720\n",
      "Epoch 55/150\n",
      "1101/1101 [==============================] - 106s 96ms/step - loss: 0.0619 - accuracy: 0.9816 - val_loss: 1.4241 - val_accuracy: 0.7720\n",
      "Epoch 56/150\n",
      "1101/1101 [==============================] - 105s 96ms/step - loss: 0.0611 - accuracy: 0.9822 - val_loss: 1.4241 - val_accuracy: 0.7720\n",
      "Epoch 57/150\n",
      "1101/1101 [==============================] - 105s 95ms/step - loss: 0.0664 - accuracy: 0.9802 - val_loss: 1.4241 - val_accuracy: 0.7720\n",
      "Epoch 58/150\n",
      "1101/1101 [==============================] - 109s 99ms/step - loss: 0.0660 - accuracy: 0.9802 - val_loss: 1.4241 - val_accuracy: 0.7720\n",
      "Epoch 59/150\n",
      "1101/1101 [==============================] - 106s 97ms/step - loss: 0.0644 - accuracy: 0.9808 - val_loss: 1.4241 - val_accuracy: 0.7720\n",
      "Epoch 60/150\n",
      "1101/1101 [==============================] - 107s 97ms/step - loss: 0.0679 - accuracy: 0.9800 - val_loss: 1.4241 - val_accuracy: 0.7720\n",
      "Epoch 61/150\n",
      "1101/1101 [==============================] - 111s 101ms/step - loss: 0.0662 - accuracy: 0.9807 - val_loss: 1.4240 - val_accuracy: 0.7720\n",
      "Epoch 62/150\n",
      "1101/1101 [==============================] - 110s 100ms/step - loss: 0.0642 - accuracy: 0.9809 - val_loss: 1.4240 - val_accuracy: 0.7720\n",
      "Epoch 63/150\n",
      "1101/1101 [==============================] - 107s 97ms/step - loss: 0.0629 - accuracy: 0.9817 - val_loss: 1.4240 - val_accuracy: 0.7720\n",
      "Epoch 64/150\n",
      "1101/1101 [==============================] - 102s 92ms/step - loss: 0.0622 - accuracy: 0.9812 - val_loss: 1.4240 - val_accuracy: 0.7720\n",
      "Epoch 65/150\n",
      "1101/1101 [==============================] - 102s 92ms/step - loss: 0.0649 - accuracy: 0.9802 - val_loss: 1.4240 - val_accuracy: 0.7720\n",
      "Epoch 66/150\n",
      "1101/1101 [==============================] - 107s 97ms/step - loss: 0.0623 - accuracy: 0.9821 - val_loss: 1.4240 - val_accuracy: 0.7720\n",
      "Epoch 67/150\n",
      "1101/1101 [==============================] - 113s 102ms/step - loss: 0.0635 - accuracy: 0.9811 - val_loss: 1.4240 - val_accuracy: 0.7720\n",
      "Epoch 68/150\n",
      "1101/1101 [==============================] - 113s 102ms/step - loss: 0.0656 - accuracy: 0.9814 - val_loss: 1.4240 - val_accuracy: 0.7720\n",
      "Epoch 69/150\n",
      "1101/1101 [==============================] - 114s 103ms/step - loss: 0.0644 - accuracy: 0.9810 - val_loss: 1.4240 - val_accuracy: 0.7720\n",
      "Epoch 70/150\n",
      "1101/1101 [==============================] - 110s 100ms/step - loss: 0.0694 - accuracy: 0.9800 - val_loss: 1.4240 - val_accuracy: 0.7720\n",
      "Epoch 71/150\n",
      "1101/1101 [==============================] - 105s 95ms/step - loss: 0.0623 - accuracy: 0.9806 - val_loss: 1.4240 - val_accuracy: 0.7720\n",
      "Epoch 72/150\n",
      "1101/1101 [==============================] - 106s 96ms/step - loss: 0.0626 - accuracy: 0.9807 - val_loss: 1.4240 - val_accuracy: 0.7720\n",
      "Epoch 73/150\n",
      "1101/1101 [==============================] - 106s 96ms/step - loss: 0.0630 - accuracy: 0.9815 - val_loss: 1.4240 - val_accuracy: 0.7720\n",
      "Epoch 74/150\n",
      "1101/1101 [==============================] - 105s 96ms/step - loss: 0.0674 - accuracy: 0.9799 - val_loss: 1.4240 - val_accuracy: 0.7720\n",
      "Epoch 75/150\n",
      "1101/1101 [==============================] - 103s 94ms/step - loss: 0.0678 - accuracy: 0.9809 - val_loss: 1.4240 - val_accuracy: 0.7720\n",
      "Epoch 76/150\n",
      "1101/1101 [==============================] - 103s 94ms/step - loss: 0.0639 - accuracy: 0.9808 - val_loss: 1.4240 - val_accuracy: 0.7720\n",
      "Epoch 77/150\n",
      "1101/1101 [==============================] - 104s 94ms/step - loss: 0.0673 - accuracy: 0.9802 - val_loss: 1.4240 - val_accuracy: 0.7720\n",
      "Epoch 78/150\n",
      "1101/1101 [==============================] - 101s 92ms/step - loss: 0.0693 - accuracy: 0.9792 - val_loss: 1.4240 - val_accuracy: 0.7720\n",
      "Epoch 79/150\n",
      "1101/1101 [==============================] - 107s 97ms/step - loss: 0.0662 - accuracy: 0.9804 - val_loss: 1.4240 - val_accuracy: 0.7720\n",
      "Epoch 80/150\n",
      "1101/1101 [==============================] - 113s 102ms/step - loss: 0.0653 - accuracy: 0.9807 - val_loss: 1.4240 - val_accuracy: 0.7720\n",
      "Epoch 81/150\n",
      "1101/1101 [==============================] - 103s 93ms/step - loss: 0.0624 - accuracy: 0.9811 - val_loss: 1.4240 - val_accuracy: 0.7720\n",
      "Epoch 82/150\n",
      "1101/1101 [==============================] - 102s 93ms/step - loss: 0.0674 - accuracy: 0.9795 - val_loss: 1.4240 - val_accuracy: 0.7720\n",
      "Epoch 83/150\n",
      "1101/1101 [==============================] - 106s 97ms/step - loss: 0.0629 - accuracy: 0.9816 - val_loss: 1.4240 - val_accuracy: 0.7720\n",
      "Epoch 84/150\n",
      "1101/1101 [==============================] - 107s 97ms/step - loss: 0.0633 - accuracy: 0.9807 - val_loss: 1.4240 - val_accuracy: 0.7720\n",
      "Epoch 85/150\n",
      "1101/1101 [==============================] - 107s 97ms/step - loss: 0.0609 - accuracy: 0.9822 - val_loss: 1.4240 - val_accuracy: 0.7720\n",
      "Epoch 86/150\n",
      "1101/1101 [==============================] - 102s 93ms/step - loss: 0.0671 - accuracy: 0.9802 - val_loss: 1.4240 - val_accuracy: 0.7720\n",
      "Epoch 87/150\n",
      "1101/1101 [==============================] - 101s 92ms/step - loss: 0.0646 - accuracy: 0.9822 - val_loss: 1.4240 - val_accuracy: 0.7720\n",
      "Epoch 88/150\n",
      "1101/1101 [==============================] - 101s 92ms/step - loss: 0.0624 - accuracy: 0.9818 - val_loss: 1.4240 - val_accuracy: 0.7720\n",
      "Epoch 89/150\n",
      "1101/1101 [==============================] - 102s 93ms/step - loss: 0.0654 - accuracy: 0.9805 - val_loss: 1.4240 - val_accuracy: 0.7720\n",
      "Epoch 90/150\n",
      "1101/1101 [==============================] - 101s 92ms/step - loss: 0.0658 - accuracy: 0.9809 - val_loss: 1.4240 - val_accuracy: 0.7720\n"
     ]
    },
    {
     "data": {
      "text/plain": [
       "<tensorflow.python.keras.callbacks.History at 0x17bed052208>"
      ]
     },
     "execution_count": 10,
     "metadata": {},
     "output_type": "execute_result"
    }
   ],
   "source": [
    "classifier.fit( training_set,\n",
    "                         epochs = 150,\n",
    "                         callbacks = [tensorboard_callback,es,mc,reduceLR],\n",
    "                         validation_data = validation_set,\n",
    "                         workers = 4)"
   ]
  },
  {
   "cell_type": "code",
   "execution_count": 11,
   "metadata": {},
   "outputs": [
    {
     "data": {
      "text/plain": [
       "Reusing TensorBoard on port 6006 (pid 6544), started 1 day, 1:03:58 ago. (Use '!kill 6544' to kill it.)"
      ]
     },
     "metadata": {},
     "output_type": "display_data"
    },
    {
     "data": {
      "text/html": [
       "\n",
       "      <iframe id=\"tensorboard-frame-451c245515b9b63d\" width=\"100%\" height=\"800\" frameborder=\"0\">\n",
       "      </iframe>\n",
       "      <script>\n",
       "        (function() {\n",
       "          const frame = document.getElementById(\"tensorboard-frame-451c245515b9b63d\");\n",
       "          const url = new URL(\"/\", window.location);\n",
       "          url.port = 6006;\n",
       "          frame.src = url;\n",
       "        })();\n",
       "      </script>\n",
       "  "
      ],
      "text/plain": [
       "<IPython.core.display.HTML object>"
      ]
     },
     "metadata": {},
     "output_type": "display_data"
    }
   ],
   "source": [
    "%tensorboard --logdir logs"
   ]
  },
  {
   "cell_type": "markdown",
   "metadata": {},
   "source": [
    "# Part 3 test the CNN"
   ]
  },
  {
   "cell_type": "code",
   "execution_count": 12,
   "metadata": {},
   "outputs": [],
   "source": [
    "# Load Model\n",
    "# modelo 3\n",
    "classifier.load_weights('best_model_6.h5')"
   ]
  },
  {
   "cell_type": "code",
   "execution_count": 13,
   "metadata": {},
   "outputs": [
    {
     "name": "stdout",
     "output_type": "stream",
     "text": [
      "Model: \"sequential\"\n",
      "_________________________________________________________________\n",
      "Layer (type)                 Output Shape              Param #   \n",
      "=================================================================\n",
      "conv2d (Conv2D)              (None, 224, 224, 32)      896       \n",
      "_________________________________________________________________\n",
      "max_pooling2d (MaxPooling2D) (None, 112, 112, 32)      0         \n",
      "_________________________________________________________________\n",
      "conv2d_1 (Conv2D)            (None, 112, 112, 64)      18496     \n",
      "_________________________________________________________________\n",
      "max_pooling2d_1 (MaxPooling2 (None, 56, 56, 64)        0         \n",
      "_________________________________________________________________\n",
      "conv2d_2 (Conv2D)            (None, 56, 56, 128)       73856     \n",
      "_________________________________________________________________\n",
      "max_pooling2d_2 (MaxPooling2 (None, 28, 28, 128)       0         \n",
      "_________________________________________________________________\n",
      "conv2d_3 (Conv2D)            (None, 28, 28, 256)       295168    \n",
      "_________________________________________________________________\n",
      "max_pooling2d_3 (MaxPooling2 (None, 14, 14, 256)       0         \n",
      "_________________________________________________________________\n",
      "flatten (Flatten)            (None, 50176)             0         \n",
      "_________________________________________________________________\n",
      "dense (Dense)                (None, 1024)              51381248  \n",
      "_________________________________________________________________\n",
      "dropout (Dropout)            (None, 1024)              0         \n",
      "_________________________________________________________________\n",
      "dense_1 (Dense)              (None, 250)               256250    \n",
      "=================================================================\n",
      "Total params: 52,025,914\n",
      "Trainable params: 52,025,914\n",
      "Non-trainable params: 0\n",
      "_________________________________________________________________\n"
     ]
    }
   ],
   "source": [
    "classifier.summary()"
   ]
  },
  {
   "cell_type": "code",
   "execution_count": 14,
   "metadata": {},
   "outputs": [
    {
     "name": "stdout",
     "output_type": "stream",
     "text": [
      "WARNING:tensorflow:sample_weight modes were coerced from\n",
      "  ...\n",
      "    to  \n",
      "  ['...']\n",
      "Test Loss 0.9688800529576838\n",
      "Test accuracy 0.7536\n"
     ]
    }
   ],
   "source": [
    "score = classifier.evaluate(test_set, verbose=0)\n",
    "\n",
    "print('Test Loss', score[0])\n",
    "print('Test accuracy', score[1])"
   ]
  }
 ],
 "metadata": {
  "kernelspec": {
   "display_name": "Python 3.7 (tensorflow)",
   "language": "python",
   "name": "tensorflow"
  },
  "language_info": {
   "codemirror_mode": {
    "name": "ipython",
    "version": 3
   },
   "file_extension": ".py",
   "mimetype": "text/x-python",
   "name": "python",
   "nbconvert_exporter": "python",
   "pygments_lexer": "ipython3",
   "version": "3.7.10"
  }
 },
 "nbformat": 4,
 "nbformat_minor": 4
}
