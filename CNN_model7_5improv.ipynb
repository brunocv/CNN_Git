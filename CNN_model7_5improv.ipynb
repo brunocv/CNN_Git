{
 "cells": [
  {
   "cell_type": "markdown",
   "metadata": {},
   "source": [
    "# Convolutional Neural Network\n",
    "\n",
    "### Part 1 - Building the CNN\n",
    "\n",
    "#### Importing the Tensorflow libraries and packages"
   ]
  },
  {
   "cell_type": "code",
   "execution_count": 1,
   "metadata": {},
   "outputs": [
    {
     "name": "stdout",
     "output_type": "stream",
     "text": [
      "Tensor Flow Version: 2.1.0\n",
      "Keras Version: 2.2.4-tf\n",
      "\n",
      "Python 3.7.10 (default, Feb 26 2021, 13:06:18) [MSC v.1916 64 bit (AMD64)]\n",
      "Pandas 1.2.4\n",
      "Scikit-Learn 0.24.1\n",
      "GPU is available\n"
     ]
    }
   ],
   "source": [
    "import sys\n",
    "\n",
    "import tensorflow.keras\n",
    "import pandas as pd\n",
    "import sklearn as sk\n",
    "import tensorflow as tf\n",
    "\n",
    "print(f\"Tensor Flow Version: {tf.__version__}\")\n",
    "print(f\"Keras Version: {tensorflow.keras.__version__}\")\n",
    "print()\n",
    "print(f\"Python {sys.version}\")\n",
    "print(f\"Pandas {pd.__version__}\")\n",
    "print(f\"Scikit-Learn {sk.__version__}\")\n",
    "gpu = len(tf.config.list_physical_devices('GPU'))>0\n",
    "print(\"GPU is\", \"available\" if gpu else \"NOT AVAILABLE\")"
   ]
  },
  {
   "cell_type": "code",
   "execution_count": 2,
   "metadata": {},
   "outputs": [],
   "source": [
    "# Load the TensorBoard notebook extension\n",
    "%load_ext tensorboard\n",
    "from tensorflow.keras.models import Sequential\n",
    "from tensorflow.keras.layers import Conv2D, MaxPooling2D, Flatten, Dense, Dropout\n",
    "from tensorflow.keras.callbacks import ReduceLROnPlateau\n",
    "\n",
    "import os"
   ]
  },
  {
   "cell_type": "code",
   "execution_count": 3,
   "metadata": {},
   "outputs": [],
   "source": [
    "TRAIN_DIR = 'dataset/train'\n",
    "TEST_DIR = 'dataset/test'\n",
    "VALID_DIR = 'dataset/valid'\n",
    "IMG_SIZE = 224\n",
    "IMG_RESCALE = 224"
   ]
  },
  {
   "cell_type": "code",
   "execution_count": 4,
   "metadata": {},
   "outputs": [],
   "source": [
    "classifier = Sequential()\n",
    "\n",
    "#classes = 250\n",
    "\n",
    "#Kernels usually 1x1 | 3x3 | 5x5\n",
    "\n",
    "#Adding a convolutional layer\n",
    "classifier.add(Conv2D(32, (3, 3), input_shape = (IMG_SIZE, IMG_SIZE, 3), padding='same', activation = 'relu'))\n",
    "classifier.add(MaxPooling2D(pool_size = (2, 2)))\n",
    "\n",
    "#Adding a second convolutional layer\n",
    "classifier.add(Conv2D(64, (3, 3), padding='same', activation = 'relu'))\n",
    "classifier.add(MaxPooling2D(pool_size = (2, 2)))\n",
    "\n",
    "#Adding a third convolutional layer\n",
    "classifier.add(Conv2D(128, (3, 3), padding='same', activation = 'relu'))\n",
    "classifier.add(MaxPooling2D(pool_size = (2, 2)))\n",
    "\n",
    "#Adding a fourth convolutional layer\n",
    "classifier.add(Conv2D(256, (3, 3), input_shape = (IMG_SIZE, IMG_SIZE, 3), padding='same', activation = 'relu'))\n",
    "classifier.add(MaxPooling2D(pool_size = (2, 2)))\n",
    "\n",
    "#Flattening\n",
    "classifier.add(Flatten())\n",
    "\n",
    "#Full connection\n",
    "classifier.add(Dense(units = 1024, activation = 'relu'))\n",
    "classifier.add(Dropout(0.10))\n",
    "classifier.add(Dense(units = 512, activation = 'relu'))\n",
    "classifier.add(Dropout(0.10))\n",
    "classifier.add(Dense(units = 512, activation = 'relu'))\n",
    "classifier.add(Dropout(0.10))\n",
    "classifier.add(Dense(units = 250, activation= 'softmax'))"
   ]
  },
  {
   "cell_type": "markdown",
   "metadata": {},
   "source": [
    "Let's double check the model description:"
   ]
  },
  {
   "cell_type": "code",
   "execution_count": 5,
   "metadata": {},
   "outputs": [
    {
     "name": "stdout",
     "output_type": "stream",
     "text": [
      "Model: \"sequential\"\n",
      "_________________________________________________________________\n",
      "Layer (type)                 Output Shape              Param #   \n",
      "=================================================================\n",
      "conv2d (Conv2D)              (None, 224, 224, 32)      896       \n",
      "_________________________________________________________________\n",
      "max_pooling2d (MaxPooling2D) (None, 112, 112, 32)      0         \n",
      "_________________________________________________________________\n",
      "conv2d_1 (Conv2D)            (None, 112, 112, 64)      18496     \n",
      "_________________________________________________________________\n",
      "max_pooling2d_1 (MaxPooling2 (None, 56, 56, 64)        0         \n",
      "_________________________________________________________________\n",
      "conv2d_2 (Conv2D)            (None, 56, 56, 128)       73856     \n",
      "_________________________________________________________________\n",
      "max_pooling2d_2 (MaxPooling2 (None, 28, 28, 128)       0         \n",
      "_________________________________________________________________\n",
      "conv2d_3 (Conv2D)            (None, 28, 28, 256)       295168    \n",
      "_________________________________________________________________\n",
      "max_pooling2d_3 (MaxPooling2 (None, 14, 14, 256)       0         \n",
      "_________________________________________________________________\n",
      "flatten (Flatten)            (None, 50176)             0         \n",
      "_________________________________________________________________\n",
      "dense (Dense)                (None, 1024)              51381248  \n",
      "_________________________________________________________________\n",
      "dropout (Dropout)            (None, 1024)              0         \n",
      "_________________________________________________________________\n",
      "dense_1 (Dense)              (None, 512)               524800    \n",
      "_________________________________________________________________\n",
      "dropout_1 (Dropout)          (None, 512)               0         \n",
      "_________________________________________________________________\n",
      "dense_2 (Dense)              (None, 512)               262656    \n",
      "_________________________________________________________________\n",
      "dropout_2 (Dropout)          (None, 512)               0         \n",
      "_________________________________________________________________\n",
      "dense_3 (Dense)              (None, 250)               128250    \n",
      "=================================================================\n",
      "Total params: 52,685,370\n",
      "Trainable params: 52,685,370\n",
      "Non-trainable params: 0\n",
      "_________________________________________________________________\n"
     ]
    }
   ],
   "source": [
    "classifier.summary()"
   ]
  },
  {
   "cell_type": "code",
   "execution_count": 6,
   "metadata": {},
   "outputs": [],
   "source": [
    "classifier.compile(optimizer = 'adam', loss = 'categorical_crossentropy', metrics = ['accuracy'])"
   ]
  },
  {
   "cell_type": "markdown",
   "metadata": {},
   "source": [
    "### Part 2 - Fitting the CNN to the images\n"
   ]
  },
  {
   "cell_type": "code",
   "execution_count": 7,
   "metadata": {},
   "outputs": [],
   "source": [
    "from tensorflow.keras.preprocessing.image import ImageDataGenerator\n",
    "\n",
    "\n",
    "train_datagen = ImageDataGenerator(rescale = 1./IMG_RESCALE,\n",
    "                                   zoom_range = 0.2,\n",
    "                                   horizontal_flip = True)\n",
    "\n",
    "test_datagen = ImageDataGenerator(rescale = 1./IMG_RESCALE)\n",
    "\n",
    "validation_datagen = ImageDataGenerator(rescale = 1./IMG_RESCALE)"
   ]
  },
  {
   "cell_type": "code",
   "execution_count": 8,
   "metadata": {},
   "outputs": [
    {
     "name": "stdout",
     "output_type": "stream",
     "text": [
      "Found 35215 images belonging to 250 classes.\n",
      "Found 1250 images belonging to 250 classes.\n",
      "Found 1250 images belonging to 250 classes.\n"
     ]
    }
   ],
   "source": [
    "training_set = train_datagen.flow_from_directory(TRAIN_DIR,\n",
    "                                                 target_size = (IMG_SIZE, IMG_SIZE),\n",
    "                                                 batch_size = 32,\n",
    "                                                 class_mode = 'categorical')\n",
    "\n",
    "test_set = test_datagen.flow_from_directory(TEST_DIR,\n",
    "                                            target_size = (IMG_SIZE, IMG_SIZE),\n",
    "                                            batch_size = 32,\n",
    "                                            class_mode = 'categorical')\n",
    "\n",
    "validation_set = validation_datagen.flow_from_directory(VALID_DIR,\n",
    "                                            target_size = (IMG_SIZE, IMG_SIZE),\n",
    "                                            batch_size = 32,\n",
    "                                            class_mode = 'categorical')"
   ]
  },
  {
   "cell_type": "code",
   "execution_count": 9,
   "metadata": {},
   "outputs": [],
   "source": [
    "from tensorflow.keras.callbacks import EarlyStopping, ModelCheckpoint, TensorBoard\n",
    "import datetime\n",
    "\n",
    "#rm -rf /logs/\n",
    "\n",
    "es = EarlyStopping(monitor='val_loss', patience=50)\n",
    "mc = ModelCheckpoint('best_model_5.h5', monitor='val_loss', mode='min', save_best_only=True)\n",
    "reduceLR = ReduceLROnPlateau(monitor='val_loss', factor=0.1, patience=4)\n",
    "\n",
    "# Create a TensorBoard callback\n",
    "log_dir = \"logs\\\\\" + datetime.datetime.now().strftime(\"%Y%m%d-%H%M%S\")\n",
    "tensorboard_callback = TensorBoard(log_dir=log_dir, histogram_freq=1)"
   ]
  },
  {
   "cell_type": "code",
   "execution_count": 10,
   "metadata": {},
   "outputs": [
    {
     "name": "stdout",
     "output_type": "stream",
     "text": [
      "WARNING:tensorflow:sample_weight modes were coerced from\n",
      "  ...\n",
      "    to  \n",
      "  ['...']\n",
      "WARNING:tensorflow:sample_weight modes were coerced from\n",
      "  ...\n",
      "    to  \n",
      "  ['...']\n",
      "Train for 1101 steps, validate for 40 steps\n",
      "Epoch 1/120\n",
      "1101/1101 [==============================] - 104s 95ms/step - loss: 5.2255 - accuracy: 0.0194 - val_loss: 4.8103 - val_accuracy: 0.0456\n",
      "Epoch 2/120\n",
      "1101/1101 [==============================] - 102s 92ms/step - loss: 4.5460 - accuracy: 0.0742 - val_loss: 3.9483 - val_accuracy: 0.1496\n",
      "Epoch 3/120\n",
      "1101/1101 [==============================] - 101s 92ms/step - loss: 3.8039 - accuracy: 0.1674 - val_loss: 3.0781 - val_accuracy: 0.2768\n",
      "Epoch 4/120\n",
      "1101/1101 [==============================] - 102s 92ms/step - loss: 3.2041 - accuracy: 0.2682 - val_loss: 2.5548 - val_accuracy: 0.3696\n",
      "Epoch 5/120\n",
      "1101/1101 [==============================] - 102s 93ms/step - loss: 2.7616 - accuracy: 0.3489 - val_loss: 2.2050 - val_accuracy: 0.4504\n",
      "Epoch 6/120\n",
      "1101/1101 [==============================] - 101s 91ms/step - loss: 2.4252 - accuracy: 0.4157 - val_loss: 1.8311 - val_accuracy: 0.5344\n",
      "Epoch 7/120\n",
      "1101/1101 [==============================] - 101s 91ms/step - loss: 2.1678 - accuracy: 0.4683 - val_loss: 1.6343 - val_accuracy: 0.5800\n",
      "Epoch 8/120\n",
      "1101/1101 [==============================] - 104s 94ms/step - loss: 1.9640 - accuracy: 0.5107 - val_loss: 1.5792 - val_accuracy: 0.5920\n",
      "Epoch 9/120\n",
      "1101/1101 [==============================] - 106s 97ms/step - loss: 1.8115 - accuracy: 0.5389 - val_loss: 1.4226 - val_accuracy: 0.6232\n",
      "Epoch 10/120\n",
      "1101/1101 [==============================] - 101s 92ms/step - loss: 1.6768 - accuracy: 0.5688 - val_loss: 1.4536 - val_accuracy: 0.6504\n",
      "Epoch 11/120\n",
      "1101/1101 [==============================] - 105s 96ms/step - loss: 1.5578 - accuracy: 0.5945 - val_loss: 1.3315 - val_accuracy: 0.6528\n",
      "Epoch 12/120\n",
      "1101/1101 [==============================] - 107s 97ms/step - loss: 1.4632 - accuracy: 0.6193 - val_loss: 1.2734 - val_accuracy: 0.6768\n",
      "Epoch 13/120\n",
      "1101/1101 [==============================] - 113s 103ms/step - loss: 1.3767 - accuracy: 0.6336 - val_loss: 1.2461 - val_accuracy: 0.6904\n",
      "Epoch 14/120\n",
      "1101/1101 [==============================] - 115s 104ms/step - loss: 1.3197 - accuracy: 0.6512 - val_loss: 1.2305 - val_accuracy: 0.7016\n",
      "Epoch 15/120\n",
      "1101/1101 [==============================] - 117s 106ms/step - loss: 1.2469 - accuracy: 0.6650 - val_loss: 1.2090 - val_accuracy: 0.6936\n",
      "Epoch 16/120\n",
      "1101/1101 [==============================] - 107s 97ms/step - loss: 1.1968 - accuracy: 0.6812 - val_loss: 1.1910 - val_accuracy: 0.7032\n",
      "Epoch 17/120\n",
      "1101/1101 [==============================] - 116s 106ms/step - loss: 1.1392 - accuracy: 0.6910 - val_loss: 1.1760 - val_accuracy: 0.7032\n",
      "Epoch 18/120\n",
      "1101/1101 [==============================] - 104s 94ms/step - loss: 1.0982 - accuracy: 0.7011 - val_loss: 1.2770 - val_accuracy: 0.6992\n",
      "Epoch 19/120\n",
      "1101/1101 [==============================] - 107s 98ms/step - loss: 1.0516 - accuracy: 0.7107 - val_loss: 1.1785 - val_accuracy: 0.7024\n",
      "Epoch 20/120\n",
      "1101/1101 [==============================] - 113s 103ms/step - loss: 1.0092 - accuracy: 0.7253 - val_loss: 1.1977 - val_accuracy: 0.6944\n",
      "Epoch 21/120\n",
      "1101/1101 [==============================] - 109s 99ms/step - loss: 0.9738 - accuracy: 0.7301 - val_loss: 1.2461 - val_accuracy: 0.7000\n",
      "Epoch 22/120\n",
      "1101/1101 [==============================] - 119s 108ms/step - loss: 0.7265 - accuracy: 0.7949 - val_loss: 1.1022 - val_accuracy: 0.7384\n",
      "Epoch 23/120\n",
      "1101/1101 [==============================] - 113s 102ms/step - loss: 0.6373 - accuracy: 0.8194 - val_loss: 1.0959 - val_accuracy: 0.7456\n",
      "Epoch 24/120\n",
      "1101/1101 [==============================] - 107s 97ms/step - loss: 0.6000 - accuracy: 0.8254 - val_loss: 1.0741 - val_accuracy: 0.7544\n",
      "Epoch 25/120\n",
      "1101/1101 [==============================] - 103s 94ms/step - loss: 0.5806 - accuracy: 0.8345 - val_loss: 1.0765 - val_accuracy: 0.7600\n",
      "Epoch 26/120\n",
      "1101/1101 [==============================] - 103s 93ms/step - loss: 0.5476 - accuracy: 0.8408 - val_loss: 1.0626 - val_accuracy: 0.7568\n",
      "Epoch 27/120\n",
      "1101/1101 [==============================] - 106s 96ms/step - loss: 0.5271 - accuracy: 0.8470 - val_loss: 1.0512 - val_accuracy: 0.7648\n",
      "Epoch 28/120\n",
      "1101/1101 [==============================] - 102s 93ms/step - loss: 0.5103 - accuracy: 0.8498 - val_loss: 1.0784 - val_accuracy: 0.7584\n",
      "Epoch 29/120\n",
      "1101/1101 [==============================] - 104s 94ms/step - loss: 0.4932 - accuracy: 0.8567 - val_loss: 1.0933 - val_accuracy: 0.7608\n",
      "Epoch 30/120\n",
      "1101/1101 [==============================] - 112s 102ms/step - loss: 0.4843 - accuracy: 0.8594 - val_loss: 1.0902 - val_accuracy: 0.7656\n",
      "Epoch 31/120\n",
      "1101/1101 [==============================] - 108s 98ms/step - loss: 0.4638 - accuracy: 0.8629 - val_loss: 1.0835 - val_accuracy: 0.7672\n",
      "Epoch 32/120\n",
      "1101/1101 [==============================] - 103s 94ms/step - loss: 0.4431 - accuracy: 0.8701 - val_loss: 1.0774 - val_accuracy: 0.7696\n",
      "Epoch 33/120\n",
      "1101/1101 [==============================] - 106s 97ms/step - loss: 0.4310 - accuracy: 0.8716 - val_loss: 1.0839 - val_accuracy: 0.7664\n",
      "Epoch 34/120\n",
      "1101/1101 [==============================] - 102s 93ms/step - loss: 0.4327 - accuracy: 0.8716 - val_loss: 1.0856 - val_accuracy: 0.7704\n",
      "Epoch 35/120\n",
      "1101/1101 [==============================] - 101s 92ms/step - loss: 0.4312 - accuracy: 0.8713 - val_loss: 1.0844 - val_accuracy: 0.7720\n",
      "Epoch 36/120\n",
      "1101/1101 [==============================] - 102s 93ms/step - loss: 0.4336 - accuracy: 0.8745 - val_loss: 1.0885 - val_accuracy: 0.7704\n",
      "Epoch 37/120\n",
      "1101/1101 [==============================] - 104s 95ms/step - loss: 0.4288 - accuracy: 0.8729 - val_loss: 1.0881 - val_accuracy: 0.7704\n",
      "Epoch 38/120\n",
      "1101/1101 [==============================] - 104s 95ms/step - loss: 0.4243 - accuracy: 0.8733 - val_loss: 1.0872 - val_accuracy: 0.7704\n",
      "Epoch 39/120\n",
      "1101/1101 [==============================] - 102s 92ms/step - loss: 0.4311 - accuracy: 0.8712 - val_loss: 1.0864 - val_accuracy: 0.7712\n",
      "Epoch 40/120\n",
      "1101/1101 [==============================] - 103s 93ms/step - loss: 0.4309 - accuracy: 0.8716 - val_loss: 1.0866 - val_accuracy: 0.7712\n",
      "Epoch 41/120\n",
      "1101/1101 [==============================] - 103s 93ms/step - loss: 0.4208 - accuracy: 0.8753 - val_loss: 1.0868 - val_accuracy: 0.7712\n",
      "Epoch 42/120\n",
      "1101/1101 [==============================] - 104s 94ms/step - loss: 0.4212 - accuracy: 0.8755 - val_loss: 1.0869 - val_accuracy: 0.7712\n",
      "Epoch 43/120\n",
      "1101/1101 [==============================] - 104s 94ms/step - loss: 0.4261 - accuracy: 0.8737 - val_loss: 1.0869 - val_accuracy: 0.7712\n",
      "Epoch 44/120\n",
      "1101/1101 [==============================] - 104s 94ms/step - loss: 0.4200 - accuracy: 0.8754 - val_loss: 1.0869 - val_accuracy: 0.7712\n",
      "Epoch 45/120\n",
      "1101/1101 [==============================] - 103s 94ms/step - loss: 0.4279 - accuracy: 0.8739 - val_loss: 1.0868 - val_accuracy: 0.7712\n",
      "Epoch 46/120\n",
      "1101/1101 [==============================] - 102s 92ms/step - loss: 0.4318 - accuracy: 0.8728 - val_loss: 1.0868 - val_accuracy: 0.7712\n",
      "Epoch 47/120\n",
      "1101/1101 [==============================] - 102s 93ms/step - loss: 0.4304 - accuracy: 0.8713 - val_loss: 1.0868 - val_accuracy: 0.7712\n",
      "Epoch 48/120\n",
      "1101/1101 [==============================] - 102s 92ms/step - loss: 0.4252 - accuracy: 0.8727 - val_loss: 1.0868 - val_accuracy: 0.7712\n",
      "Epoch 49/120\n",
      "1101/1101 [==============================] - 101s 92ms/step - loss: 0.4309 - accuracy: 0.8723 - val_loss: 1.0868 - val_accuracy: 0.7712\n",
      "Epoch 50/120\n",
      "1101/1101 [==============================] - 104s 95ms/step - loss: 0.4296 - accuracy: 0.8736 - val_loss: 1.0868 - val_accuracy: 0.7712\n",
      "Epoch 51/120\n",
      "1101/1101 [==============================] - 106s 96ms/step - loss: 0.4246 - accuracy: 0.8740 - val_loss: 1.0868 - val_accuracy: 0.7712\n",
      "Epoch 52/120\n",
      "1101/1101 [==============================] - 107s 97ms/step - loss: 0.4292 - accuracy: 0.8739 - val_loss: 1.0868 - val_accuracy: 0.7712\n",
      "Epoch 53/120\n",
      "1101/1101 [==============================] - 108s 98ms/step - loss: 0.4326 - accuracy: 0.8729 - val_loss: 1.0868 - val_accuracy: 0.7712\n",
      "Epoch 54/120\n"
     ]
    },
    {
     "name": "stdout",
     "output_type": "stream",
     "text": [
      "1101/1101 [==============================] - 105s 95ms/step - loss: 0.4301 - accuracy: 0.8716 - val_loss: 1.0868 - val_accuracy: 0.7712\n",
      "Epoch 55/120\n",
      "1101/1101 [==============================] - 109s 99ms/step - loss: 0.4260 - accuracy: 0.8744 - val_loss: 1.0868 - val_accuracy: 0.7712\n",
      "Epoch 56/120\n",
      "1101/1101 [==============================] - 112s 101ms/step - loss: 0.4297 - accuracy: 0.8743 - val_loss: 1.0868 - val_accuracy: 0.7712\n",
      "Epoch 57/120\n",
      "1101/1101 [==============================] - 109s 99ms/step - loss: 0.4255 - accuracy: 0.8744 - val_loss: 1.0868 - val_accuracy: 0.7712\n",
      "Epoch 58/120\n",
      "1101/1101 [==============================] - 108s 98ms/step - loss: 0.4258 - accuracy: 0.8745 - val_loss: 1.0868 - val_accuracy: 0.7712\n",
      "Epoch 59/120\n",
      "1101/1101 [==============================] - 109s 99ms/step - loss: 0.4317 - accuracy: 0.8739 - val_loss: 1.0868 - val_accuracy: 0.7712\n",
      "Epoch 60/120\n",
      "1101/1101 [==============================] - 116s 106ms/step - loss: 0.4332 - accuracy: 0.8707 - val_loss: 1.0868 - val_accuracy: 0.7712\n",
      "Epoch 61/120\n",
      "1101/1101 [==============================] - 113s 103ms/step - loss: 0.4223 - accuracy: 0.8754 - val_loss: 1.0868 - val_accuracy: 0.7712\n",
      "Epoch 62/120\n",
      "1101/1101 [==============================] - 111s 101ms/step - loss: 0.4275 - accuracy: 0.8743 - val_loss: 1.0868 - val_accuracy: 0.7712\n",
      "Epoch 63/120\n",
      "1101/1101 [==============================] - 110s 100ms/step - loss: 0.4300 - accuracy: 0.8726 - val_loss: 1.0868 - val_accuracy: 0.7712\n",
      "Epoch 64/120\n",
      "1101/1101 [==============================] - 106s 96ms/step - loss: 0.4277 - accuracy: 0.8733 - val_loss: 1.0868 - val_accuracy: 0.7712\n",
      "Epoch 65/120\n",
      "1101/1101 [==============================] - 103s 93ms/step - loss: 0.4245 - accuracy: 0.8743 - val_loss: 1.0868 - val_accuracy: 0.7712\n",
      "Epoch 66/120\n",
      "1101/1101 [==============================] - 101s 92ms/step - loss: 0.4371 - accuracy: 0.8719 - val_loss: 1.0868 - val_accuracy: 0.7712\n",
      "Epoch 67/120\n",
      "1101/1101 [==============================] - 106s 96ms/step - loss: 0.4337 - accuracy: 0.8718 - val_loss: 1.0868 - val_accuracy: 0.7712\n",
      "Epoch 68/120\n",
      "1101/1101 [==============================] - 105s 95ms/step - loss: 0.4260 - accuracy: 0.8751 - val_loss: 1.0868 - val_accuracy: 0.7712\n",
      "Epoch 69/120\n",
      "1101/1101 [==============================] - 113s 103ms/step - loss: 0.4271 - accuracy: 0.8726 - val_loss: 1.0868 - val_accuracy: 0.7712\n",
      "Epoch 70/120\n",
      "1101/1101 [==============================] - 114s 104ms/step - loss: 0.4377 - accuracy: 0.8712 - val_loss: 1.0868 - val_accuracy: 0.7712\n",
      "Epoch 71/120\n",
      "1101/1101 [==============================] - 112s 101ms/step - loss: 0.4213 - accuracy: 0.8768 - val_loss: 1.0868 - val_accuracy: 0.7712\n",
      "Epoch 72/120\n",
      "1101/1101 [==============================] - 117s 106ms/step - loss: 0.4266 - accuracy: 0.8741 - val_loss: 1.0868 - val_accuracy: 0.7712\n",
      "Epoch 73/120\n",
      "1101/1101 [==============================] - 118s 107ms/step - loss: 0.4264 - accuracy: 0.8746 - val_loss: 1.0868 - val_accuracy: 0.7712\n",
      "Epoch 74/120\n",
      "1101/1101 [==============================] - 111s 101ms/step - loss: 0.4254 - accuracy: 0.8733 - val_loss: 1.0868 - val_accuracy: 0.7712\n",
      "Epoch 75/120\n",
      "1101/1101 [==============================] - 103s 94ms/step - loss: 0.4310 - accuracy: 0.8722 - val_loss: 1.0868 - val_accuracy: 0.7712\n",
      "Epoch 76/120\n",
      "1101/1101 [==============================] - 109s 99ms/step - loss: 0.4221 - accuracy: 0.8756 - val_loss: 1.0868 - val_accuracy: 0.7712\n",
      "Epoch 77/120\n",
      "1101/1101 [==============================] - 103s 93ms/step - loss: 0.4272 - accuracy: 0.8727 - val_loss: 1.0868 - val_accuracy: 0.7712\n"
     ]
    },
    {
     "data": {
      "text/plain": [
       "<tensorflow.python.keras.callbacks.History at 0x2216c739fc8>"
      ]
     },
     "execution_count": 10,
     "metadata": {},
     "output_type": "execute_result"
    }
   ],
   "source": [
    "classifier.fit( training_set,\n",
    "                         epochs = 120,\n",
    "                         callbacks = [tensorboard_callback,es,mc,reduceLR],\n",
    "                         validation_data = validation_set,\n",
    "                         workers = 4)"
   ]
  },
  {
   "cell_type": "code",
   "execution_count": 11,
   "metadata": {},
   "outputs": [
    {
     "data": {
      "text/plain": [
       "Reusing TensorBoard on port 6006 (pid 6544), started 1 day, 3:52:35 ago. (Use '!kill 6544' to kill it.)"
      ]
     },
     "metadata": {},
     "output_type": "display_data"
    },
    {
     "data": {
      "text/html": [
       "\n",
       "      <iframe id=\"tensorboard-frame-f0fd91364d44f611\" width=\"100%\" height=\"800\" frameborder=\"0\">\n",
       "      </iframe>\n",
       "      <script>\n",
       "        (function() {\n",
       "          const frame = document.getElementById(\"tensorboard-frame-f0fd91364d44f611\");\n",
       "          const url = new URL(\"/\", window.location);\n",
       "          url.port = 6006;\n",
       "          frame.src = url;\n",
       "        })();\n",
       "      </script>\n",
       "  "
      ],
      "text/plain": [
       "<IPython.core.display.HTML object>"
      ]
     },
     "metadata": {},
     "output_type": "display_data"
    }
   ],
   "source": [
    "%tensorboard --logdir logs"
   ]
  },
  {
   "cell_type": "markdown",
   "metadata": {},
   "source": [
    "# Part 3 test the CNN"
   ]
  },
  {
   "cell_type": "code",
   "execution_count": 13,
   "metadata": {},
   "outputs": [],
   "source": [
    "# Load Model\n",
    "# modelo 3\n",
    "classifier.load_weights('best_model_5.h5')"
   ]
  },
  {
   "cell_type": "code",
   "execution_count": 14,
   "metadata": {},
   "outputs": [
    {
     "name": "stdout",
     "output_type": "stream",
     "text": [
      "Model: \"sequential\"\n",
      "_________________________________________________________________\n",
      "Layer (type)                 Output Shape              Param #   \n",
      "=================================================================\n",
      "conv2d (Conv2D)              (None, 224, 224, 32)      896       \n",
      "_________________________________________________________________\n",
      "max_pooling2d (MaxPooling2D) (None, 112, 112, 32)      0         \n",
      "_________________________________________________________________\n",
      "conv2d_1 (Conv2D)            (None, 112, 112, 64)      18496     \n",
      "_________________________________________________________________\n",
      "max_pooling2d_1 (MaxPooling2 (None, 56, 56, 64)        0         \n",
      "_________________________________________________________________\n",
      "conv2d_2 (Conv2D)            (None, 56, 56, 128)       73856     \n",
      "_________________________________________________________________\n",
      "max_pooling2d_2 (MaxPooling2 (None, 28, 28, 128)       0         \n",
      "_________________________________________________________________\n",
      "conv2d_3 (Conv2D)            (None, 28, 28, 256)       295168    \n",
      "_________________________________________________________________\n",
      "max_pooling2d_3 (MaxPooling2 (None, 14, 14, 256)       0         \n",
      "_________________________________________________________________\n",
      "flatten (Flatten)            (None, 50176)             0         \n",
      "_________________________________________________________________\n",
      "dense (Dense)                (None, 1024)              51381248  \n",
      "_________________________________________________________________\n",
      "dropout (Dropout)            (None, 1024)              0         \n",
      "_________________________________________________________________\n",
      "dense_1 (Dense)              (None, 512)               524800    \n",
      "_________________________________________________________________\n",
      "dropout_1 (Dropout)          (None, 512)               0         \n",
      "_________________________________________________________________\n",
      "dense_2 (Dense)              (None, 512)               262656    \n",
      "_________________________________________________________________\n",
      "dropout_2 (Dropout)          (None, 512)               0         \n",
      "_________________________________________________________________\n",
      "dense_3 (Dense)              (None, 250)               128250    \n",
      "=================================================================\n",
      "Total params: 52,685,370\n",
      "Trainable params: 52,685,370\n",
      "Non-trainable params: 0\n",
      "_________________________________________________________________\n"
     ]
    }
   ],
   "source": [
    "classifier.summary()"
   ]
  },
  {
   "cell_type": "code",
   "execution_count": 15,
   "metadata": {},
   "outputs": [
    {
     "name": "stdout",
     "output_type": "stream",
     "text": [
      "WARNING:tensorflow:sample_weight modes were coerced from\n",
      "  ...\n",
      "    to  \n",
      "  ['...']\n",
      "Test Loss 1.0027428647503256\n",
      "Test accuracy 0.7736\n"
     ]
    }
   ],
   "source": [
    "score = classifier.evaluate(test_set, verbose=0)\n",
    "\n",
    "print('Test Loss', score[0])\n",
    "print('Test accuracy', score[1])"
   ]
  },
  {
   "cell_type": "code",
   "execution_count": null,
   "metadata": {},
   "outputs": [],
   "source": []
  }
 ],
 "metadata": {
  "kernelspec": {
   "display_name": "Python 3.7 (tensorflow)",
   "language": "python",
   "name": "tensorflow"
  },
  "language_info": {
   "codemirror_mode": {
    "name": "ipython",
    "version": 3
   },
   "file_extension": ".py",
   "mimetype": "text/x-python",
   "name": "python",
   "nbconvert_exporter": "python",
   "pygments_lexer": "ipython3",
   "version": "3.7.10"
  }
 },
 "nbformat": 4,
 "nbformat_minor": 4
}
